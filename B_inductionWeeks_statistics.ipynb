{
 "cells": [
  {
   "cell_type": "markdown",
   "metadata": {},
   "source": [
    "Question 1\n",
    "\n",
    "The value of an investment follows the equation $A_t=e^{\\sqrt{t}Z}$ for $Z$~$N(0,1)$.  \n",
    "A Quants student invests $1,000 in the asset at time 0.\n",
    "\n",
    "Calculate the expected value of this investment at time 5.  \n",
    "Calculate the probability that the value of the students's investment is less than $10,000 at time 5."
   ]
  },
  {
   "cell_type": "code",
   "execution_count": null,
   "metadata": {},
   "outputs": [],
   "source": [
    "import numpy as np\n",
    "import math\n",
    "import matplotlib.pyplot as plt\n",
    "\n",
    "investment=1000\n",
    "time=5\n",
    "size=100000\n",
    "a=np.random.lognormal(mean=0,sigma=math.sqrt(time),size=size)\n",
    "investmentValue=a*investment\n",
    "\n",
    "# the expected value of this investment at time 5\n",
    "investmentValue.mean()\n",
    "\n",
    "# the probability that the value of the students's investment is less than $10,000 at time 5\n",
    "investmentValueCondition=investmentValue[investmentValue<10000]\n",
    "probability=investmentValueCondition.size/investmentValue.size\n",
    "probability"
   ]
  },
  {
   "cell_type": "code",
   "execution_count": null,
   "metadata": {},
   "outputs": [],
   "source": [
    "# # distribution graph\n",
    "# import seaborn as sns\n",
    "# sns.distplot(a)"
   ]
  },
  {
   "cell_type": "code",
   "execution_count": null,
   "metadata": {},
   "outputs": [],
   "source": [
    "# # summary statistics\n",
    "# import pandas as pd\n",
    "# aSeries=pd.Series(a)\n",
    "# aSeries.describe()"
   ]
  },
  {
   "cell_type": "markdown",
   "metadata": {},
   "source": [
    "Question 2\n",
    "\n",
    "Consider the standard normal random variable X.  \n",
    "What is the probability that values of X are within one standard deviation of the mean?"
   ]
  },
  {
   "cell_type": "code",
   "execution_count": null,
   "metadata": {},
   "outputs": [],
   "source": [
    "import numpy as np\n",
    "xArray=np.random.normal(scale=1,size=10000000)\n",
    "xArrayCondition=xArray[(xArray<1) & (xArray>-1)]\n",
    "probability=xArrayCondition.size/xArray.size\n",
    "probability"
   ]
  },
  {
   "cell_type": "code",
   "execution_count": null,
   "metadata": {},
   "outputs": [],
   "source": [
    "# # distribution graph\n",
    "# import seaborn as sns\n",
    "# sns.distplot(xArray)"
   ]
  },
  {
   "cell_type": "code",
   "execution_count": null,
   "metadata": {},
   "outputs": [],
   "source": [
    "# # summary statistics\n",
    "# import pandas as pd\n",
    "# xSeries=pd.Series(xArray)\n",
    "# xSeries.describe()"
   ]
  },
  {
   "cell_type": "markdown",
   "metadata": {},
   "source": [
    "Question 3\n",
    "\n",
    "Consider two independent random variables $Z_1$ and $Z_2$. Let $f_1()$ and $f_2()$ be two continuous monotone functions and define the random variables $X_1=f_1(Z_1)$, $X_2=f_1(Z_2)$.\n",
    "\n",
    "Then, $X_1$ and $X_2$ are independent."
   ]
  },
  {
   "cell_type": "code",
   "execution_count": null,
   "metadata": {},
   "outputs": [],
   "source": []
  },
  {
   "cell_type": "markdown",
   "metadata": {},
   "source": [
    "Question 4\n",
    "\n",
    "Let $X_1$,...,$X_n$ be independent and identically distributed normal random variables with mean $μ_i$, i=1,...,n and variance $σ_i^{2}$. The distribution of $Q=\\sum_{i=1}^{n}X_i^{2}$ is\n",
    "\n",
    "Select one:  \n",
    "a. student's t  \n",
    "b. non-central chi-square with n degrees of freedom  \n",
    "c. rescaled non-central chi-square with n degrees of freedom  \n",
    "d. central chi-square with n degrees of freedom $(χ_n^2)$"
   ]
  },
  {
   "cell_type": "code",
   "execution_count": null,
   "metadata": {},
   "outputs": [],
   "source": []
  },
  {
   "cell_type": "markdown",
   "metadata": {},
   "source": [
    "Question 5\n",
    "\n",
    "What is the second quartile of the standard normal distribution?"
   ]
  },
  {
   "cell_type": "code",
   "execution_count": null,
   "metadata": {},
   "outputs": [],
   "source": []
  },
  {
   "cell_type": "markdown",
   "metadata": {},
   "source": [
    "Question 6\n",
    "\n",
    "Let $X_1$,...,$X_n$ be independent and identically distributed normal random variables with mean $μ_i$, i=1,...,n and unit variance. The distribution of $Q=\\sum_{i=1}^{n}X_i^{2}$ is\n",
    "\n",
    "Select one:  \n",
    "a. student's t  \n",
    "b. central chi-square with n degrees of freedom $(χ_n^2)$  \n",
    "c. non-central chi-square with n degrees of freedom  \n",
    "d. rescaled non-central chi-square with n degrees of freedom"
   ]
  },
  {
   "cell_type": "code",
   "execution_count": null,
   "metadata": {},
   "outputs": [],
   "source": []
  },
  {
   "cell_type": "markdown",
   "metadata": {},
   "source": [
    "Question 7\n",
    "\n",
    "What is the fourth quartile of the standard normal distribution?\n",
    "\n",
    "Select one:  \n",
    "a. 0.6745  \n",
    "b. 1  \n",
    "c. None of the above  \n",
    "d. 0"
   ]
  },
  {
   "cell_type": "code",
   "execution_count": null,
   "metadata": {},
   "outputs": [],
   "source": []
  },
  {
   "cell_type": "markdown",
   "metadata": {},
   "source": [
    "Question 8\n",
    "\n",
    "Let X be a random variable with normal distribution.  \n",
    "The mean is 29 and the standard deviation is 6. The 90th percentile of X is\n",
    "\n",
    "Select one:  \n",
    "a.  19  \n",
    "b.  36.6896  \n",
    "c.  0.9  \n",
    "d.  1%"
   ]
  },
  {
   "cell_type": "code",
   "execution_count": null,
   "metadata": {},
   "outputs": [],
   "source": [
    "import numpy as np\n",
    "xArray=np.random.normal(loc=29,scale=6,size=10000)\n",
    "xList=xArray.tolist()\n",
    "xSort=sorted(xList)\n",
    "xSort[9000]"
   ]
  },
  {
   "cell_type": "markdown",
   "metadata": {},
   "source": [
    "Question 9\n",
    "\n",
    "Let X be a Gaussian random variable   \n",
    "The mean is 29 and the standard deviation is 36.  \n",
    "The 5% quantile of X is\n",
    "\n",
    "Select one:  \n",
    "a.  36  \n",
    "b.  19.1306  \n",
    "c.  0.05  \n",
    "d.  95%"
   ]
  },
  {
   "cell_type": "code",
   "execution_count": null,
   "metadata": {},
   "outputs": [],
   "source": [
    "import numpy as np\n",
    "size=100000\n",
    "xArray=np.random.normal(loc=29,scale=6,size=size)\n",
    "xList=xArray.tolist()\n",
    "xSort=sorted(xList)\n",
    "xSort[int(size/20)]"
   ]
  },
  {
   "cell_type": "markdown",
   "metadata": {},
   "source": [
    "Question 10\n",
    "\n",
    "What is the thid quartile of the standard normal distribution?\n",
    "\n",
    "Slect one:  \n",
    "a.  0.6745  \n",
    "b.  0  \n",
    "c.  1  \n",
    "d.  -0.6745  "
   ]
  },
  {
   "cell_type": "code",
   "execution_count": null,
   "metadata": {},
   "outputs": [],
   "source": [
    "import numpy as np\n",
    "size=100000\n",
    "xArray=np.random.normal(loc=0,scale=1,size=size)\n",
    "xList=xArray.tolist()\n",
    "xSort=sorted(xList)\n",
    "xSort[3*int(size/4)]"
   ]
  },
  {
   "cell_type": "markdown",
   "metadata": {},
   "source": [
    "Question 11\n",
    "\n",
    "Let X~N(0,1). Consider the raw moment of order k, $\\mu_k=E(X^k)$, k=1,2,...  \n",
    "Then $\\mu_k=(k-1)\\mu_{k-2}$, k=1,2,... with $\\mu_{-1}=0$ (by convention).\n",
    "\n",
    "Select one:  \n",
    "True  \n",
    "False"
   ]
  },
  {
   "cell_type": "code",
   "execution_count": null,
   "metadata": {},
   "outputs": [],
   "source": []
  },
  {
   "cell_type": "markdown",
   "metadata": {},
   "source": [
    "Question 12\n",
    "\n",
    "Consider the standard normal random variable X.  \n",
    "What is the probability that values of X are within three standard deviation of the mean?"
   ]
  },
  {
   "cell_type": "code",
   "execution_count": null,
   "metadata": {},
   "outputs": [],
   "source": [
    "import numpy as np\n",
    "size=100000\n",
    "xArray=np.random.normal(loc=0,scale=1,size=size)\n",
    "xArrayCondition=xArray[(xArray<3) & (xArray>-3)]\n",
    "probability=xArrayCondition.size/xArray.size\n",
    "probability"
   ]
  },
  {
   "cell_type": "markdown",
   "metadata": {},
   "source": [
    "Question 13\n",
    "\n",
    "What is the first quartile of the standard normal distribution?\n",
    "\n",
    "Select one:  \n",
    "a.  0  \n",
    "b.  0.6745  \n",
    "c.  1  \n",
    "d.  -0.6745"
   ]
  },
  {
   "cell_type": "code",
   "execution_count": null,
   "metadata": {},
   "outputs": [],
   "source": [
    "import numpy as np\n",
    "size=1000000\n",
    "xArray=np.random.normal(loc=0,scale=1,size=size)\n",
    "xList=xArray.tolist()\n",
    "xSort=sorted(xList)\n",
    "xSort[int(size/4)]"
   ]
  },
  {
   "cell_type": "markdown",
   "metadata": {},
   "source": [
    "Question 14\n",
    "\n",
    "Consider the standard normal random variable X.  \n",
    "What is the probability that values of X are within two standard deviation of the mean?\n",
    "\n",
    "Sekect one:  \n",
    "a.  0.9545  \n",
    "b.  0.9973  \n",
    "c.  0.9772  \n",
    "d.  0.85"
   ]
  },
  {
   "cell_type": "code",
   "execution_count": null,
   "metadata": {},
   "outputs": [],
   "source": [
    "import numpy as np\n",
    "size=100000\n",
    "xArray=np.random.normal(loc=0,scale=1,size=size)\n",
    "xArrayCondition=xArray[(xArray<2) & (xArray>-2)]\n",
    "probability=xArrayCondition.size/xArray.size\n",
    "probability"
   ]
  },
  {
   "cell_type": "markdown",
   "metadata": {},
   "source": [
    "Question 15\n",
    "\n",
    "Let $Z_1,...,Z_n$ be independent standard normal random variables. The distribution of $Q=\\sum_{i=1}^n Z_i^2$ is\n",
    "\n",
    "Select one:  \n",
    "a.  rescaled non-central chi-square with n degrees of freedom  \n",
    "b.  student's t  \n",
    "c.  central chi-square with n degrees of freedom(χ_n^2)  \n",
    "d.  non-central chi-square with n degrees of freedom"
   ]
  },
  {
   "cell_type": "code",
   "execution_count": null,
   "metadata": {},
   "outputs": [],
   "source": []
  },
  {
   "cell_type": "markdown",
   "metadata": {},
   "source": [
    "Question 16\n",
    "\n",
    "Let X~N(0,1) and $\\mu_k$ its raw moment of order k. Then  \n",
    "\n",
    "Select one or more:  \n",
    "a.  $\\mu_k \\ne 0$ if k is even  \n",
    "b.  $\\mu_k = 0$ if k is odd  \n",
    "c.  $\\mu_k \\ne 0$ if k is odd  \n",
    "d.  $\\mu_k = 0$ if k is even"
   ]
  },
  {
   "cell_type": "code",
   "execution_count": null,
   "metadata": {},
   "outputs": [],
   "source": []
  },
  {
   "cell_type": "code",
   "execution_count": null,
   "metadata": {},
   "outputs": [],
   "source": [
    "\"\"\"\n",
    "\n",
    "two questions:\n",
    "How to test whether two variables are independent?\n",
    "How to test whether two variables are uncorrelated?\n",
    "\n",
    "\"\"\""
   ]
  }
 ],
 "metadata": {
  "kernelspec": {
   "display_name": "Python 3",
   "language": "python",
   "name": "python3"
  },
  "language_info": {
   "codemirror_mode": {
    "name": "ipython",
    "version": 3
   },
   "file_extension": ".py",
   "mimetype": "text/x-python",
   "name": "python",
   "nbconvert_exporter": "python",
   "pygments_lexer": "ipython3",
   "version": "3.8.3"
  }
 },
 "nbformat": 4,
 "nbformat_minor": 4
}
