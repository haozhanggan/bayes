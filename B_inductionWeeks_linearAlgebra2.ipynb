{
 "cells": [
  {
   "cell_type": "markdown",
   "metadata": {},
   "source": [
    "Question 1\n",
    "\n",
    "What is the determinant of A = $\\begin{bmatrix}\n",
    "2 & 5 \\\\\n",
    "1 & -3\n",
    "\\end{bmatrix}$?"
   ]
  },
  {
   "cell_type": "code",
   "execution_count": null,
   "metadata": {},
   "outputs": [],
   "source": [
    "import numpy as np\n",
    "a=np.array([[2,5],[1,-3]])\n",
    "np.linalg.det(a)"
   ]
  },
  {
   "cell_type": "markdown",
   "metadata": {},
   "source": [
    "Question 2\n",
    "\n",
    "What is the determinant of A = $\\begin{bmatrix}\n",
    "3 & -5 \\\\\n",
    "2 & 1\n",
    "\\end{bmatrix}$?"
   ]
  },
  {
   "cell_type": "code",
   "execution_count": null,
   "metadata": {},
   "outputs": [],
   "source": [
    "import numpy as np\n",
    "a=np.array([[3,-5],[2,1]])\n",
    "np.linalg.det(a)"
   ]
  },
  {
   "cell_type": "markdown",
   "metadata": {},
   "source": [
    "Question 3\n",
    "\n",
    "What is the determinant of A = $\\begin{bmatrix}\n",
    "-2 & 4 \\\\\n",
    "-6 & 2\n",
    "\\end{bmatrix}$?"
   ]
  },
  {
   "cell_type": "code",
   "execution_count": null,
   "metadata": {},
   "outputs": [],
   "source": [
    "import numpy as np\n",
    "a=np.array([[-2,4],[-6,2]])\n",
    "np.linalg.det(a)"
   ]
  },
  {
   "cell_type": "markdown",
   "metadata": {},
   "source": [
    "Question 4\n",
    "\n",
    "What is the determinant of A = $\\begin{bmatrix}\n",
    "5 & -3 \\\\\n",
    "-4 & 2\n",
    "\\end{bmatrix}$?"
   ]
  },
  {
   "cell_type": "code",
   "execution_count": null,
   "metadata": {},
   "outputs": [],
   "source": [
    "import numpy as np\n",
    "a=np.array([[5,-3],[-4,2]])\n",
    "np.linalg.det(a)"
   ]
  },
  {
   "cell_type": "markdown",
   "metadata": {},
   "source": [
    "Question 5\n",
    "\n",
    "What is the determinant of A = $\\begin{bmatrix}\n",
    "3 & 0 & 1 \\\\\n",
    "2 & 5 & 4 \\\\\n",
    "-3 & 1 & 3\n",
    "\\end{bmatrix}$?"
   ]
  },
  {
   "cell_type": "code",
   "execution_count": null,
   "metadata": {},
   "outputs": [],
   "source": [
    "import numpy as np\n",
    "a=np.array([[3,0,1],[2,5,4],[-3,1,3]])\n",
    "np.linalg.det(a)"
   ]
  },
  {
   "cell_type": "markdown",
   "metadata": {},
   "source": [
    "Question 6\n",
    "\n",
    "What is the determinant of A = $\\begin{bmatrix}\n",
    "3 & 0 & -1 \\\\\n",
    "2 & 5 & 4 \\\\\n",
    "-3 & 1 & 3\n",
    "\\end{bmatrix}$?"
   ]
  },
  {
   "cell_type": "code",
   "execution_count": null,
   "metadata": {},
   "outputs": [],
   "source": [
    "import numpy as np\n",
    "a=np.array([[3,0,-1],[2,5,4],[-3,1,3]])\n",
    "np.linalg.det(a)"
   ]
  },
  {
   "cell_type": "markdown",
   "metadata": {},
   "source": [
    "Question 7\n",
    "\n",
    "Which of the following matrices is singular?\n",
    "\n",
    "Select one"
   ]
  },
  {
   "cell_type": "code",
   "execution_count": null,
   "metadata": {},
   "outputs": [],
   "source": [
    "import numpy as np\n",
    "a=np.array([[-6,9],[-2,-3]])\n",
    "aa=np.linalg.det(a)\n",
    "print(aa)\n",
    "b=np.array([[6,9],[2,-3]])\n",
    "bb=np.linalg.det(b)\n",
    "print(bb)\n",
    "c=np.array([[-6,9],[2,-3]])\n",
    "cc=np.linalg.det(c)\n",
    "print(cc)\n",
    "d=np.array([[-6,9],[2,3]])\n",
    "dd=np.linalg.det(d)\n",
    "print(dd)"
   ]
  },
  {
   "cell_type": "markdown",
   "metadata": {},
   "source": [
    "Question 8\n",
    "\n",
    "What is the determinant?"
   ]
  },
  {
   "cell_type": "code",
   "execution_count": null,
   "metadata": {},
   "outputs": [],
   "source": [
    "x=np.array([[3,2,0,1],[4,0,1,2],[3,0,2,1],[9,2,3,1]])\n",
    "np.linalg.det(x)"
   ]
  },
  {
   "cell_type": "markdown",
   "metadata": {},
   "source": [
    "Question 9\n",
    "\n",
    "The leading principal minors of a 4 X 4 matrix are $|A_1|$=-1,$|A_2|$=1,$|A_3|$=2,and $|A_4|$=$|A|$=0. Then\n",
    "\n",
    "Select one:  \n",
    "a.  The matrix is negative definite  \n",
    "b.  Its definiteness cannot be determined with this information  \n",
    "c.  The matrix is negative semidefinite  \n",
    "d.  The matrix is indefinite"
   ]
  },
  {
   "cell_type": "code",
   "execution_count": null,
   "metadata": {},
   "outputs": [],
   "source": []
  },
  {
   "cell_type": "markdown",
   "metadata": {},
   "source": [
    "Question 10\n",
    "\n",
    "The leading principal minors of a 4 X 4 matrix are  $|A_1|$ =-1, $|A_2|$ =1, $|A_3|$ =-2,and  $|A_4|$ = $|A|$ =0. Then\n",
    "\n",
    "Select one:\n",
    "a. The matrix is negative semidefinite  \n",
    "b. The matrix could be negative semidefinite  \n",
    "c. The matrix is indefinite  \n",
    "d. Its definiteness cannot be determined with this information"
   ]
  },
  {
   "cell_type": "code",
   "execution_count": null,
   "metadata": {},
   "outputs": [],
   "source": []
  },
  {
   "cell_type": "markdown",
   "metadata": {},
   "source": [
    "Question 11\n",
    "\n",
    "The leading principal minors of a 4 X 4 matrix are  $|A_1|$ =-1, $|A_2|$ =1, $|A_3|$ =-2,and  $|A_4|$ = $|A|$ =1. Then\n",
    "\n",
    "Select one:\n",
    "a. The matrix is indefinite\n",
    "b. The matrix is negative definite\n",
    "c. Its definiteness cannot be determined with this information\n",
    "d. The matrix is negative semidefinite"
   ]
  },
  {
   "cell_type": "code",
   "execution_count": null,
   "metadata": {},
   "outputs": [],
   "source": []
  },
  {
   "cell_type": "markdown",
   "metadata": {},
   "source": [
    "Question 12\n",
    "\n",
    "A 2 X 2 symmetric matrix has a negative determinant, then the matrix is  \n",
    "\n",
    "Select one:  \n",
    "a.  positive semi-definite  \n",
    "b.  indefinite  \n",
    "c.  positive definite  \n",
    "d.  negative semi-definite"
   ]
  },
  {
   "cell_type": "code",
   "execution_count": null,
   "metadata": {},
   "outputs": [],
   "source": [
    "\"\"\"\n",
    "\n",
    "For the case of a 2×2  matrix, the Sylvester rule implies that definite/semi-definite forms always have a non-negative determinant. Therefore in this case we have an indefinite matrix.\n",
    "\n",
    "The correct answer is:  indefinite\n",
    "\n",
    "\"\"\""
   ]
  }
 ],
 "metadata": {
  "kernelspec": {
   "display_name": "Python 3",
   "language": "python",
   "name": "python3"
  },
  "language_info": {
   "codemirror_mode": {
    "name": "ipython",
    "version": 3
   },
   "file_extension": ".py",
   "mimetype": "text/x-python",
   "name": "python",
   "nbconvert_exporter": "python",
   "pygments_lexer": "ipython3",
   "version": "3.8.3"
  }
 },
 "nbformat": 4,
 "nbformat_minor": 4
}
