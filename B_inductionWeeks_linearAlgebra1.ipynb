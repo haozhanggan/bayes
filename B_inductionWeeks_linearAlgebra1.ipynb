{
 "cells": [
  {
   "cell_type": "markdown",
   "metadata": {},
   "source": [
    "Question 1\n",
    "\n",
    "if \n",
    "A=\n",
    "$\\begin{bmatrix}\n",
    "1 & -2 \\\\\n",
    "4 & -3\n",
    "\\end{bmatrix}$\n",
    ",\n",
    "B=\n",
    "$\\begin{bmatrix}\n",
    "-1 & 4 \\\\\n",
    "6 & -2\n",
    "\\end{bmatrix}$, what is 3$A^T-2B^T$?"
   ]
  },
  {
   "cell_type": "code",
   "execution_count": null,
   "metadata": {},
   "outputs": [],
   "source": [
    "import numpy as np\n",
    "a=np.array([[1,-2],[4,-3]])\n",
    "b=np.array([[-1,4],[6,-2]])\n",
    "3*a.transpose()-2*b.transpose()"
   ]
  },
  {
   "cell_type": "markdown",
   "metadata": {},
   "source": [
    "Question 2\n",
    "\n",
    "Which one of the following is not an identity matrix?\n",
    "\n",
    "Select one:  \n",
    "a.  \n",
    "b.  \n",
    "c.  $\\begin{bmatrix}\n",
    "1 & 0 & 0 & 0 \\\\\n",
    "0 & 0 & 0 & 1\n",
    "\\end{bmatrix}$  \n",
    "d."
   ]
  },
  {
   "cell_type": "code",
   "execution_count": null,
   "metadata": {},
   "outputs": [],
   "source": []
  },
  {
   "cell_type": "markdown",
   "metadata": {},
   "source": [
    "Question 3\n",
    "\n",
    "Which one of the following is not a diagonal matrix?\n",
    "\n",
    "Select one:  \n",
    "a.$\\begin{bmatrix}\n",
    "0 & 0 & 3 \\\\\n",
    "0 & 2 & 0 \\\\\n",
    "1 & 0 & 0\n",
    "\\end{bmatrix}$  \n",
    "b.  \n",
    "c.  \n",
    "d.  "
   ]
  },
  {
   "cell_type": "code",
   "execution_count": null,
   "metadata": {},
   "outputs": [],
   "source": []
  },
  {
   "cell_type": "markdown",
   "metadata": {},
   "source": [
    "Question 4\n",
    "\n",
    "Which one of the following is an upper triangular matrix?  \n",
    "\n",
    "Select one:  \n",
    "a. $\\begin{bmatrix}\n",
    "5 & 3 & 1 \\\\\n",
    "0 & -5 & 2.6 \\\\\n",
    "0 & 0 & 5\n",
    "\\end{bmatrix}$  \n",
    "b.  \n",
    "c.  \n",
    "d."
   ]
  },
  {
   "cell_type": "code",
   "execution_count": null,
   "metadata": {},
   "outputs": [],
   "source": []
  },
  {
   "cell_type": "markdown",
   "metadata": {},
   "source": [
    "Question 5\n",
    "\n",
    "Which one of the following is a symmetric matrix?\n",
    "\n",
    "Select one:  \n",
    "a.$\\begin{bmatrix}\n",
    "5 & 3 & 2 \\\\\n",
    "3 & 1 & 11 \\\\\n",
    "2 & 11 & 2\n",
    "\\end{bmatrix}$  \n",
    "b.  \n",
    "c.  \n",
    "d."
   ]
  },
  {
   "cell_type": "code",
   "execution_count": null,
   "metadata": {},
   "outputs": [],
   "source": []
  },
  {
   "cell_type": "markdown",
   "metadata": {},
   "source": [
    "Question 6\n",
    "\n",
    "What is the transpose of\n",
    "$\\begin{bmatrix}\n",
    "2 & -5 \\\\\n",
    "3 & 6 \\\\\n",
    "-7 & 10\n",
    "\\end{bmatrix}$?  \n",
    "\n",
    "Select one:  \n",
    "a.  \n",
    "b.$\\begin{bmatrix}\n",
    "2 & 3 & -7 \\\\\n",
    "-5 & 6 & 10\n",
    "\\end{bmatrix}$   \n",
    "c.  \n",
    "d."
   ]
  },
  {
   "cell_type": "code",
   "execution_count": null,
   "metadata": {},
   "outputs": [],
   "source": []
  },
  {
   "cell_type": "markdown",
   "metadata": {},
   "source": [
    "Question 7\n",
    "\n",
    "When a square matrix is added to its own transpose, the resulting matrix is\n",
    "\n",
    "Select one:  \n",
    "a.  \n",
    "b.  \n",
    "c.  A symmetric matrix  \n",
    "d."
   ]
  },
  {
   "cell_type": "code",
   "execution_count": null,
   "metadata": {},
   "outputs": [],
   "source": []
  },
  {
   "cell_type": "markdown",
   "metadata": {},
   "source": [
    "Question 8\n",
    "\n",
    "Suppose  \n",
    "1) A is a 3 X 2 matrix  \n",
    "1) B is a 2 X 3 matrix  \n",
    "1) C is a 2 X 2 matrix  \n",
    "1) D is a 3 X 3 matrix\n",
    "\n",
    "Which of the following products does not exist?  \n",
    "\n",
    "Select one:  \n",
    "a.  \n",
    "b.  \n",
    "c.  CD  \n",
    "d."
   ]
  },
  {
   "cell_type": "code",
   "execution_count": null,
   "metadata": {},
   "outputs": [],
   "source": []
  },
  {
   "cell_type": "markdown",
   "metadata": {},
   "source": [
    "Question 9  \n",
    "if X=$\\begin{bmatrix}\n",
    "3 & -1 \\\\\n",
    "2 & 5\n",
    "\\end{bmatrix}$, \n",
    "Y=$\\begin{bmatrix}\n",
    "-2 & 4 \\\\\n",
    "-3 & 1\n",
    "\\end{bmatrix}$, what is XY?"
   ]
  },
  {
   "cell_type": "code",
   "execution_count": null,
   "metadata": {},
   "outputs": [],
   "source": [
    "import numpy as np\n",
    "x=np.array([[3,-1],[2,5]])\n",
    "y=np.array([[-2,4],[-3,1]])\n",
    "np.dot(x,y)"
   ]
  },
  {
   "cell_type": "markdown",
   "metadata": {},
   "source": [
    "Question 10\n",
    "\n",
    "The matrix $\\begin{bmatrix}\n",
    "3 & 1 \\\\\n",
    "5 & 2\n",
    "\\end{bmatrix}$ is invertible.\n",
    "\n",
    "Select one:  \n",
    "True  \n",
    "False"
   ]
  },
  {
   "cell_type": "code",
   "execution_count": null,
   "metadata": {},
   "outputs": [],
   "source": [
    "import numpy as np\n",
    "x=np.array([[3,1],[5,2]])\n",
    "np.linalg.det(x)"
   ]
  }
 ],
 "metadata": {
  "kernelspec": {
   "display_name": "Python 3",
   "language": "python",
   "name": "python3"
  },
  "language_info": {
   "codemirror_mode": {
    "name": "ipython",
    "version": 3
   },
   "file_extension": ".py",
   "mimetype": "text/x-python",
   "name": "python",
   "nbconvert_exporter": "python",
   "pygments_lexer": "ipython3",
   "version": "3.8.3"
  }
 },
 "nbformat": 4,
 "nbformat_minor": 4
}
