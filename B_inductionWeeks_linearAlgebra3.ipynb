{
 "cells": [
  {
   "cell_type": "markdown",
   "metadata": {},
   "source": [
    "Question 1\n",
    "\n",
    "Consider the system of linear equations\n",
    "3x + 2y = 80\n",
    "x + 2y = 40\n",
    "\n",
    "The system is consistent and determinante."
   ]
  },
  {
   "cell_type": "code",
   "execution_count": null,
   "metadata": {},
   "outputs": [],
   "source": [
    "import numpy as np\n",
    "matrix=np.array([[3,2],[1,2]])\n",
    "determinate=np.linalg.det(matrix)\n",
    "determinate == 0"
   ]
  },
  {
   "cell_type": "markdown",
   "metadata": {},
   "source": [
    "Question 2\n",
    "\n",
    "Consider the system of linear equations  \n",
    "3x + 2y = 80  \n",
    "x + 2y = 40\n",
    "\n",
    "The solution is x=$\\begin{bmatrix}\n",
    "20 \\\\\n",
    "10\n",
    "\\end{bmatrix}$"
   ]
  },
  {
   "cell_type": "code",
   "execution_count": null,
   "metadata": {},
   "outputs": [],
   "source": [
    "import numpy as np\n",
    "matrix01=np.array([[3,2],[1,2]])\n",
    "matrix01Inv=np.linalg.inv(matrix01)\n",
    "matrix02=np.array([80,40])\n",
    "solution=np.dot(matrix01Inv,matrix02)\n",
    "solution"
   ]
  },
  {
   "cell_type": "markdown",
   "metadata": {},
   "source": [
    "Question 3\n",
    "\n",
    "Consider the system of linear equations  \n",
    "y+2z=25  \n",
    "-x+y=4  \n",
    "2x-y+3z=27  \n",
    "\n",
    "The solution is  "
   ]
  },
  {
   "cell_type": "code",
   "execution_count": null,
   "metadata": {},
   "outputs": [],
   "source": [
    "import numpy as np\n",
    "matrix01=np.array([[0,1,2],[-1,1,0],[2,-1,3]])\n",
    "matrix01Inv=np.linalg.inv(matrix01)\n",
    "matrix02=np.array([25,4,27])\n",
    "solution=np.dot(matrix01Inv,matrix02)\n",
    "solution"
   ]
  },
  {
   "cell_type": "markdown",
   "metadata": {},
   "source": [
    "Question 4\n",
    "\n",
    "Consider the following system for different values of a  \n",
    "(a+1)x+y+z=1\n",
    "x+(a+1)y+z=2\n",
    "x+y+(1+a)z=3\n",
    "\n",
    "The system is consistent and determinate for a$\\ne$0 and a$\\ne$-3"
   ]
  },
  {
   "cell_type": "code",
   "execution_count": null,
   "metadata": {},
   "outputs": [],
   "source": [
    "import scipy.optimize\n",
    "import sympy\n",
    "\n",
    "print(scipy.optimize.fsolve(lambda a: (a**2)*(a+3),-4))\n",
    "print(sympy.solve('(a**2)*(a+3)'))\n",
    "\n",
    "\n",
    "\"\"\"\n",
    "\n",
    "reference:\n",
    "\n",
    "Coldwings\n",
    "https://www.zhihu.com/question/34987285/answer/82449982\n",
    "\n",
    "\"\"\""
   ]
  },
  {
   "cell_type": "markdown",
   "metadata": {},
   "source": [
    "Question 5\n",
    "\n",
    "Consider the system  \n",
    " $\\begin{bmatrix}\n",
    "3 & 0 & 2 \\\\\n",
    "6 & 1 & 1 \\\\\n",
    "2 & 8 & 9\n",
    "\\end{bmatrix}$\n",
    " $\\begin{bmatrix}\n",
    "x_1 \\\\\n",
    "x_2\\\\\n",
    "x_3\n",
    "\\end{bmatrix}$\n",
    "=\n",
    " $\\begin{bmatrix}\n",
    "0\\\\\n",
    "0\\\\\n",
    "0\n",
    "\\end{bmatrix}$"
   ]
  },
  {
   "cell_type": "code",
   "execution_count": null,
   "metadata": {},
   "outputs": [],
   "source": [
    "import numpy as np\n",
    "matrix01=np.array([[3,0,2],[6,1,1],[2,8,9]])\n",
    "matrix01Inv=np.linalg.inv(matrix01)\n",
    "matrix02=np.array([0,0,0])\n",
    "solution=np.dot(matrix01Inv,matrix02)\n",
    "solution"
   ]
  },
  {
   "cell_type": "markdown",
   "metadata": {},
   "source": [
    "Question 6\n",
    "\n",
    "Write the quadratic form\n",
    "$q(x,y,z)=(x-y)^2+3z^2$in matrix form $q(x,y,z)=\\textbf{x}^TA\\textbf{x}$  \n",
    "for $\\textbf{x}=(x,y,z)$"
   ]
  },
  {
   "cell_type": "code",
   "execution_count": null,
   "metadata": {},
   "outputs": [],
   "source": []
  },
  {
   "cell_type": "markdown",
   "metadata": {},
   "source": [
    "Question 7\n",
    "\n",
    "The quadratic form $q(x,y,z)=(x-y)^2+3z^2$ is positive semi-definite"
   ]
  },
  {
   "cell_type": "code",
   "execution_count": null,
   "metadata": {},
   "outputs": [],
   "source": []
  },
  {
   "cell_type": "markdown",
   "metadata": {},
   "source": [
    "Question 8\n",
    "\n",
    "The quadratic form $q(x,y,z)=-x^2-2z^2$ is negative semi-definite"
   ]
  },
  {
   "cell_type": "code",
   "execution_count": null,
   "metadata": {},
   "outputs": [],
   "source": []
  },
  {
   "cell_type": "markdown",
   "metadata": {},
   "source": [
    "Question 9\n",
    "\n",
    "The quadratic form $q(x,y,z)=x^2+2xz+2y^2-z^2$ is positive semi-definite"
   ]
  },
  {
   "cell_type": "code",
   "execution_count": null,
   "metadata": {},
   "outputs": [],
   "source": []
  },
  {
   "cell_type": "markdown",
   "metadata": {},
   "source": [
    "Question 10\n",
    "\n",
    "The quadratic form $q(x,y,z)=3x^2+2y^2+3z^2-2xy-2yz$ is positive definite"
   ]
  },
  {
   "cell_type": "code",
   "execution_count": null,
   "metadata": {},
   "outputs": [],
   "source": []
  },
  {
   "cell_type": "code",
   "execution_count": null,
   "metadata": {},
   "outputs": [],
   "source": [
    "\"\"\"\n",
    "\n",
    "reference\n",
    "\n",
    "https://www.dr-eriksen.no/teaching/GRA6035/2010/lecture5.pdf\n",
    "\n",
    "\"\"\"\n"
   ]
  }
 ],
 "metadata": {
  "kernelspec": {
   "display_name": "Python 3",
   "language": "python",
   "name": "python3"
  },
  "language_info": {
   "codemirror_mode": {
    "name": "ipython",
    "version": 3
   },
   "file_extension": ".py",
   "mimetype": "text/x-python",
   "name": "python",
   "nbconvert_exporter": "python",
   "pygments_lexer": "ipython3",
   "version": "3.8.3"
  }
 },
 "nbformat": 4,
 "nbformat_minor": 4
}
